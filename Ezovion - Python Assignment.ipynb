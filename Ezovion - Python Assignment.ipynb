{
  "nbformat": 4,
  "nbformat_minor": 0,
  "metadata": {
    "colab": {
      "provenance": [],
      "authorship_tag": "ABX9TyP8gLqVuOAe+Ikib4mglMPA",
      "include_colab_link": true
    },
    "kernelspec": {
      "name": "python3",
      "display_name": "Python 3"
    },
    "language_info": {
      "name": "python"
    }
  },
  "cells": [
    {
      "cell_type": "markdown",
      "metadata": {
        "id": "view-in-github",
        "colab_type": "text"
      },
      "source": [
        "<a href=\"https://colab.research.google.com/github/Kaviya-22/Kaviya-22/blob/main/Ezovion%20-%20Python%20Assignment.ipynb\" target=\"_parent\"><img src=\"https://colab.research.google.com/assets/colab-badge.svg\" alt=\"Open In Colab\"/></a>"
      ]
    },
    {
      "cell_type": "markdown",
      "source": [
        "**Write a Python program to demonstrate multiple inheritance.**\n",
        "\n",
        "1. Employee class has 3 data members EmployeeID, Gender (String), Salary and\n",
        "PerformanceRating(Out of 5) of type int. It has a get() function to get these details from the user.\n",
        "2. JoiningDetail class has a data member DateOfJoining of type Date and a function getDoJ to get the Date of joining of employees.\n",
        "3. Information Class uses the marks from Employee class and the DateOfJoining\n",
        "date from the JoiningDetail class to calculate the top 3 Employees based on their Ratings and then Display, using readData, all the details on these employees in Ascending order of their Date Of Joining."
      ],
      "metadata": {
        "id": "IzhVSeJq2Njx"
      }
    },
    {
      "cell_type": "code",
      "source": [
        "from datetime import date\n",
        "\n",
        "class Employee:\n",
        "    def get(self):\n",
        "        self.EmployeeID = int(input(\"Enter Employee ID: \"))\n",
        "        self.Gender = input(\"Enter Gender: \")\n",
        "        self.Salary = float(input(\"Enter Salary: \"))\n",
        "        self.PerformanceRating = int(input(\"Enter Performance Rating (Out of 5): \"))\n",
        "\n",
        "class JoiningDetail:\n",
        "    def getDoJ(self):\n",
        "        year = int(input(\"Enter Joining Year: \"))\n",
        "        month = int(input(\"Enter Joining Month: \"))\n",
        "        day = int(input(\"Enter Joining Day: \"))\n",
        "        self.DateOfJoining = date(year, month, day)\n",
        "\n",
        "class Information(Employee, JoiningDetail):\n",
        "    def readData(self):\n",
        "        employees = []\n",
        "        for _ in range(3):\n",
        "            employee = Information()\n",
        "            employee.get()\n",
        "            employee.getDoJ()\n",
        "            employees.append(employee)\n",
        "\n",
        "        # Sort employees based on PerformanceRating and DateOfJoining\n",
        "        employees.sort(key=lambda emp: (emp.PerformanceRating, emp.DateOfJoining))\n",
        "\n",
        "        print(\"\\nTop 3 Employees based on Ratings and Ascending Order of Joining Date:\")\n",
        "        for i, emp in enumerate(employees[:3], start=1):\n",
        "            print(f\"\\nEmployee {i} details:\")\n",
        "            print(f\"Employee ID: {emp.EmployeeID}\")\n",
        "            print(f\"Gender: {emp.Gender}\")\n",
        "            print(f\"Salary: {emp.Salary}\")\n",
        "            print(f\"Performance Rating: {emp.PerformanceRating}\")\n",
        "            print(f\"Date of Joining: {emp.DateOfJoining.strftime('%Y-%m-%d')}\")\n",
        "\n",
        "# Usage\n",
        "info = Information()\n",
        "info.readData()\n"
      ],
      "metadata": {
        "colab": {
          "base_uri": "https://localhost:8080/"
        },
        "id": "GlbtBabCz5A4",
        "outputId": "8b0f1af0-f026-4b5d-e9d8-143c9aeb4dec"
      },
      "execution_count": null,
      "outputs": [
        {
          "output_type": "stream",
          "name": "stdout",
          "text": [
            "Enter Employee ID: 56\n",
            "Enter Gender: Female\n",
            "Enter Salary: 20000\n",
            "Enter Performance Rating (Out of 5): 3\n",
            "Enter Joining Year: 2023\n",
            "Enter Joining Month: 10\n",
            "Enter Joining Day: 13\n",
            "Enter Employee ID: 67\n",
            "Enter Gender: Male\n",
            "Enter Salary: 18000\n",
            "Enter Performance Rating (Out of 5): 2\n",
            "Enter Joining Year: 2021\n",
            "Enter Joining Month: 12\n",
            "Enter Joining Day: 1\n",
            "Enter Employee ID: 43\n",
            "Enter Gender: Female\n",
            "Enter Salary: 19000\n",
            "Enter Performance Rating (Out of 5): 4\n",
            "Enter Joining Year: 2022\n",
            "Enter Joining Month: 11\n",
            "Enter Joining Day: 18\n",
            "\n",
            "Top 3 Employees based on Ratings and Ascending Order of Joining Date:\n",
            "\n",
            "Employee 1 details:\n",
            "Employee ID: 67\n",
            "Gender: Male\n",
            "Salary: 18000.0\n",
            "Performance Rating: 2\n",
            "Date of Joining: 2021-12-01\n",
            "\n",
            "Employee 2 details:\n",
            "Employee ID: 56\n",
            "Gender: Female\n",
            "Salary: 20000.0\n",
            "Performance Rating: 3\n",
            "Date of Joining: 2023-10-13\n",
            "\n",
            "Employee 3 details:\n",
            "Employee ID: 43\n",
            "Gender: Female\n",
            "Salary: 19000.0\n",
            "Performance Rating: 4\n",
            "Date of Joining: 2022-11-18\n"
          ]
        }
      ]
    },
    {
      "cell_type": "markdown",
      "source": [
        "**Write a Python program to demonstrate Polymorphism.**\n",
        "\n",
        "1. Class Vehicle with a parameterized function Fare, that takes input value as fare and\n",
        "returns it to calling Objects.\n",
        "2. Create five separate variables Bus, Car, Train, Truck and Ship that call the Fare\n",
        "function.\n",
        "3. Use a third variable TotalFare to store the sum of fare for each Vehicle Type.\n",
        "4. Print the TotalFare."
      ],
      "metadata": {
        "id": "oyGNNTp_2LbH"
      }
    },
    {
      "cell_type": "code",
      "source": [
        "# Concept of polymorphism is, it allows different classes to provide their own implementation of a common method.\n",
        "#This makes it easy to extend and modify the behavior of the program.\n",
        "\n",
        "\n",
        "\n",
        "class Vehicle:\n",
        "    def __init__(self, vehicle_type):\n",
        "        self.vehicle_type = vehicle_type\n",
        "\n",
        "    def fare(self, amount):\n",
        "        return amount\n",
        "\n",
        "\n",
        "class Bus(Vehicle):\n",
        "    def fare(self, amount):\n",
        "        return amount * 1.1  # Bus fare increases by 10%\n",
        "\n",
        "\n",
        "class Car(Vehicle):\n",
        "    def fare(self, amount):\n",
        "        return amount * 1.2  # Car fare 20% increased\n",
        "\n",
        "\n",
        "class Train(Vehicle):\n",
        "    def fare(self, amount):\n",
        "        return amount * 1.3  # Train fare 30% increased\n",
        "\n",
        "\n",
        "class Truck(Vehicle):\n",
        "    def fare(self, amount):\n",
        "        return amount * 1.4  # Truck fare 40% increased\n",
        "\n",
        "\n",
        "class Ship(Vehicle):\n",
        "    def fare(self, amount):\n",
        "        return amount * 1.5  # Ship fare 50% increased\n",
        "\n",
        "\n",
        "# Create instances of each vehicle type\n",
        "bus = Bus(\"Bus\")\n",
        "car = Car(\"Car\")\n",
        "train = Train(\"Train\")\n",
        "truck = Truck(\"Truck\")\n",
        "ship = Ship(\"Ship\")\n",
        "\n",
        "# Fare for each vehicle\n",
        "bus_fare = bus.fare(100)\n",
        "car_fare = car.fare(100)\n",
        "train_fare = train.fare(100)\n",
        "truck_fare = truck.fare(100)\n",
        "ship_fare = ship.fare(100)\n",
        "\n",
        "# total fare amount\n",
        "total_fare = bus_fare + car_fare + train_fare + truck_fare + ship_fare\n",
        "\n",
        "# Print total fare amount\n",
        "print(\"Total Fare for all vehicles:\", total_fare)\n"
      ],
      "metadata": {
        "colab": {
          "base_uri": "https://localhost:8080/"
        },
        "id": "FoYHWNoA2GzF",
        "outputId": "5aeb3c6b-da88-4523-9d2b-a9d25e2142c7"
      },
      "execution_count": null,
      "outputs": [
        {
          "output_type": "stream",
          "name": "stdout",
          "text": [
            "Total Fare for all vehicles: 650.0\n"
          ]
        }
      ]
    },
    {
      "cell_type": "markdown",
      "source": [
        "**Consider an ongoing test cricket series. Following are the names of the players and their scores in\n",
        "the test1 and 2.**\n",
        "\n",
        "Test Match 1 :\n",
        "Dhoni : 56 , Balaji : 94\n",
        "Test Match 2 :\n",
        "Balaji : 80 , Dravid : 105\n",
        "\n",
        "1.Calculate the highest number of runs scored by an individual cricketer in both of the matches.\n",
        "\n",
        "2.Create a python function Max_Score (M) that reads a dictionary M that recognizes the\n",
        "player with the highest total score. This function will return ( Top player , Total Score ) . You can consider the Top player as String who is the highest scorer and Top score as Integer .\n",
        "Input : Max_Score({‘test1’:{‘Dhoni’:56, ‘Balaji : 85}, ‘test2’:{‘Dhoni’ 87,\n",
        "‘Balaji’’:200}})\n",
        "Output : (‘Balaji ‘ , 200)"
      ],
      "metadata": {
        "id": "c3SkyN9w6L3o"
      }
    },
    {
      "cell_type": "code",
      "source": [
        "def Max_Score(M):\n",
        "    top_player = None\n",
        "    top_score = 0\n",
        "\n",
        "    for match, scores in M.items():\n",
        "        for player, score in scores.items():\n",
        "            if score > top_score:\n",
        "                top_score = score\n",
        "                top_player = player\n",
        "\n",
        "    return top_player, top_score\n",
        "\n",
        "\n",
        "# Simple Examples:\n",
        "M = {\n",
        "    'test1': {'Dhoni': 56, 'Balaji': 94},\n",
        "    'test2': {'Balaji': 80, 'Dravid': 105}\n",
        "}\n",
        "\n",
        "result = Max_Score(M)\n",
        "print(\"Top Player:\", result[0])\n",
        "print(\"Top Score:\", result[1])\n"
      ],
      "metadata": {
        "colab": {
          "base_uri": "https://localhost:8080/"
        },
        "id": "k8cRkbCp6Ru7",
        "outputId": "98df0f29-0f1a-4fba-ccbc-4521eb271177"
      },
      "execution_count": 1,
      "outputs": [
        {
          "output_type": "stream",
          "name": "stdout",
          "text": [
            "Top Player: Dravid\n",
            "Top Score: 105\n"
          ]
        }
      ]
    },
    {
      "cell_type": "markdown",
      "source": [
        "**Create a simple Card game in which there are 8 cards which are randomly chosen from a deck.\n",
        "The first card is shown face up. The game asks the player to predict whether the next card**\n",
        "\n",
        "Create a simple Card game in which there are 8 cards which are randomly chosen from a deck.\n",
        "The first card is shown face up. The game asks the player to predict whether the next card in the selection will have a higher or lower value than the currently showing card.\n",
        "For example, say the card that’s shown is a 3. The player chooses “higher,” and the next card is shown. If that card has a higher value, the player is correct. In this example, if the player had chosen “lower,” they would have been incorrect. If the player guesses correctly, they get 20 points. If they choose incorrectly, they lose 15 points. If the next card to be turned over has the same value as the previous card, the player is incorrect"
      ],
      "metadata": {
        "id": "iqsQlco26wN7"
      }
    },
    {
      "cell_type": "code",
      "source": [
        "import random\n",
        "\n",
        "# Create a deck of cards\n",
        "suits = ['Hearts', 'Diamonds', 'Clubs', 'Spades']\n",
        "ranks = ['2', '3', '4', '5', '6', '7', '8', '9', '10', 'Jack', 'Queen', 'King', 'Ace']\n",
        "deck = [{'Rank': rank, 'Suit': suit} for rank in ranks for suit in suits]\n",
        "\n",
        "# Shuffle the deck\n",
        "random.shuffle(deck)\n",
        "\n",
        "# Draw the first card\n",
        "current_card = deck.pop()\n",
        "\n",
        "# Game loop\n",
        "while deck:\n",
        "    # current card showing\n",
        "    print(f\"\\nCurrent Card: {current_card['Rank']} of {current_card['Suit']}\")\n",
        "\n",
        "    # Ask the player to predict\n",
        "    prediction = input(\"Predict (higher/lower): \").lower()\n",
        "\n",
        "    # Draw the next card\n",
        "    next_card = deck.pop()\n",
        "\n",
        "    # Prediction checking\n",
        "    if (ranks.index(next_card['Rank']) > ranks.index(current_card['Rank']) and prediction == 'higher') or \\\n",
        "       (ranks.index(next_card['Rank']) < ranks.index(current_card['Rank']) and prediction == 'lower'):\n",
        "        print(\"Correct!\")\n",
        "    else:\n",
        "        print(\"Incorrect! Game Over.\")\n",
        "        break\n",
        "\n",
        "    # current card updation\n",
        "    current_card = next_card\n",
        "\n",
        "print(\"\\nGame Over. Thanks for playing!\")\n"
      ],
      "metadata": {
        "colab": {
          "base_uri": "https://localhost:8080/"
        },
        "id": "J9s037fi60Vx",
        "outputId": "513460c5-c882-4dcb-f426-03ebf9470bde"
      },
      "execution_count": null,
      "outputs": [
        {
          "output_type": "stream",
          "name": "stdout",
          "text": [
            "\n",
            "Current Card: 3 of Diamonds\n",
            "Predict (higher/lower): higher\n",
            "Correct!\n",
            "\n",
            "Current Card: 4 of Clubs\n",
            "Predict (higher/lower): higher\n",
            "Incorrect! Game Over.\n",
            "\n",
            "Game Over. Thanks for playing!\n"
          ]
        }
      ]
    },
    {
      "cell_type": "markdown",
      "source": [
        "**Create an empty dictionary called Car_0 . Then fill the dictionary with Keys : color , speed ,\n",
        "X_position and Y_position.**\n",
        "\n",
        "car_0 = {&#39;x_position&#39;: 10, &#39;y_position&#39;: 72, &#39;speed&#39;: &#39;medium&#39;} .\n",
        "a) If the speed is slow the coordinates of the X_pos get incremented by 2.\n",
        "b) If the speed is Medium the coordinates of the X_pos gets incremented by 9\n",
        "c) Now if the speed is Fast the coordinates of the X_pos gets incremented by 22.\n",
        "Print the modified dictionary."
      ],
      "metadata": {
        "id": "ccP8BWy8NXj2"
      }
    },
    {
      "cell_type": "code",
      "source": [
        "\n",
        "#Fill the dictionary with Keys: color, speed, X_position, and Y_position\n",
        "car_0 = {\"color\":\"red\",\"speed\":\"medium\",\"x_position\":10,\"y_position\":72} # You can set any color value\n",
        "\n",
        "\n",
        "#Modify the X_position based on the speed\n",
        "# a\n",
        "if car_0['speed'] == 'slow':\n",
        "    car_0['x_position'] += 2\n",
        "# b\n",
        "elif car_0['speed'] == 'medium':\n",
        "    car_0['x_position'] += 9\n",
        "# c\n",
        "elif car_0['speed'] == 'fast':\n",
        "    car_0['x_position'] += 22\n",
        "\n",
        "#modified dictionary\n",
        "print(\"Modified Dictionary:\", car_0)\n"
      ],
      "metadata": {
        "colab": {
          "base_uri": "https://localhost:8080/"
        },
        "id": "CtpWAUzkNp7h",
        "outputId": "6a08f39a-3dbc-4a7a-b7c1-bbfc7db78577"
      },
      "execution_count": null,
      "outputs": [
        {
          "output_type": "stream",
          "name": "stdout",
          "text": [
            "Modified Dictionary: {'color': 'red', 'speed': 'medium', 'x_position': 19, 'y_position': 72}\n"
          ]
        }
      ]
    },
    {
      "cell_type": "markdown",
      "source": [
        "**Show a basic implementation of abstraction in python using the abstract classes.**\n",
        "\n",
        "1. Create an abstract class in python.\n",
        "2. Implement abstraction with the other classes and base class as abstract class."
      ],
      "metadata": {
        "id": "DtjpiITkQUJ9"
      }
    },
    {
      "cell_type": "code",
      "source": [
        "from abc import ABC, abstractmethod\n",
        "\n",
        "# Create an abstract class\n",
        "class Vehicle(ABC):\n",
        "\n",
        "    @abstractmethod\n",
        "    def fare(self, amount):\n",
        "        pass\n",
        "\n",
        "\n",
        "# Implement abstraction with other classes\n",
        "class Bus(Vehicle):\n",
        "    def fare(self, amount):\n",
        "        return amount * 1.1\n",
        "\n",
        "\n",
        "class Car(Vehicle):\n",
        "    def fare(self, amount):\n",
        "        return amount * 1.2\n",
        "\n",
        "\n",
        "class Train(Vehicle):\n",
        "    def fare(self, amount):\n",
        "        return amount * 1.3\n",
        "\n",
        "class Truck(Vehicle):\n",
        "    def fare(self, amount):\n",
        "        return amount * 1.4\n",
        "\n",
        "\n",
        "class Ship(Vehicle):\n",
        "    def fare(self, amount):\n",
        "        return amount * 1.5\n",
        "\n",
        "\n",
        "# Using the classes\n",
        "bus = Bus()\n",
        "car = Car()\n",
        "train = Train()\n",
        "truck = Truck()\n",
        "ship = Ship()\n",
        "\n",
        "\n",
        "bus_fare = bus.fare(100)\n",
        "car_fare = car.fare(100)\n",
        "train_fare = train.fare(100)\n",
        "truck_fare = truck.fare(100)\n",
        "ship_fare = ship.fare(100)\n",
        "\n",
        "print(\"Bus Fare:\", bus_fare)\n",
        "print(\"Car Fare:\", car_fare)\n",
        "print(\"Train Fare:\", train_fare)\n",
        "print(\"Truck Fare:\", truck_fare)\n",
        "print(\"Ship Fare:\", ship_fare)\n"
      ],
      "metadata": {
        "colab": {
          "base_uri": "https://localhost:8080/"
        },
        "id": "TSiyGpcnQZl6",
        "outputId": "f6f6e4ff-caf9-4245-f202-858b96d40be8"
      },
      "execution_count": null,
      "outputs": [
        {
          "output_type": "stream",
          "name": "stdout",
          "text": [
            "Bus Fare: 110.00000000000001\n",
            "Car Fare: 120.0\n",
            "Train Fare: 130.0\n",
            "Truck Fare: 140.0\n",
            "Ship Fare: 150.0\n"
          ]
        }
      ]
    }
  ]
}