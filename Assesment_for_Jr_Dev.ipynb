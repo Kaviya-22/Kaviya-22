{
  "nbformat": 4,
  "nbformat_minor": 0,
  "metadata": {
    "colab": {
      "provenance": [],
      "authorship_tag": "ABX9TyPO+5cYX6prKrtuYFpR5eV2",
      "include_colab_link": true
    },
    "kernelspec": {
      "name": "python3",
      "display_name": "Python 3"
    },
    "language_info": {
      "name": "python"
    }
  },
  "cells": [
    {
      "cell_type": "markdown",
      "metadata": {
        "id": "view-in-github",
        "colab_type": "text"
      },
      "source": [
        "<a href=\"https://colab.research.google.com/github/Kaviya-22/Kaviya-22/blob/main/Assesment_for_Jr_Dev.ipynb\" target=\"_parent\"><img src=\"https://colab.research.google.com/assets/colab-badge.svg\" alt=\"Open In Colab\"/></a>"
      ]
    },
    {
      "cell_type": "markdown",
      "source": [
        "Part - A"
      ],
      "metadata": {
        "id": "g52BvoS_VrA6"
      }
    },
    {
      "cell_type": "code",
      "execution_count": null,
      "metadata": {
        "colab": {
          "base_uri": "https://localhost:8080/"
        },
        "id": "G0C6Dvn7RYZQ",
        "outputId": "3826ccd7-85dc-47fc-9889-4470acc0b34b"
      },
      "outputs": [
        {
          "output_type": "stream",
          "name": "stdout",
          "text": [
            "Collecting bs4\n",
            "  Downloading bs4-0.0.1.tar.gz (1.1 kB)\n",
            "  Preparing metadata (setup.py) ... \u001b[?25l\u001b[?25hdone\n",
            "Requirement already satisfied: beautifulsoup4 in /usr/local/lib/python3.10/dist-packages (from bs4) (4.11.2)\n",
            "Requirement already satisfied: soupsieve>1.2 in /usr/local/lib/python3.10/dist-packages (from beautifulsoup4->bs4) (2.4.1)\n",
            "Building wheels for collected packages: bs4\n",
            "  Building wheel for bs4 (setup.py) ... \u001b[?25l\u001b[?25hdone\n",
            "  Created wheel for bs4: filename=bs4-0.0.1-py3-none-any.whl size=1257 sha256=3e433d32ce99530592fcd1f624bfb9acad8c3ad3bae9ed0879db2acce5e550d6\n",
            "  Stored in directory: /root/.cache/pip/wheels/25/42/45/b773edc52acb16cd2db4cf1a0b47117e2f69bb4eb300ed0e70\n",
            "Successfully built bs4\n",
            "Installing collected packages: bs4\n",
            "Successfully installed bs4-0.0.1\n"
          ]
        }
      ],
      "source": [
        "pip install bs4"
      ]
    },
    {
      "cell_type": "code",
      "source": [
        "pip install lxml"
      ],
      "metadata": {
        "colab": {
          "base_uri": "https://localhost:8080/"
        },
        "id": "e0UqF7LcSQEy",
        "outputId": "eb3f0ed2-acfc-43b7-df62-4d66e8694e46"
      },
      "execution_count": null,
      "outputs": [
        {
          "output_type": "stream",
          "name": "stdout",
          "text": [
            "Requirement already satisfied: lxml in /usr/local/lib/python3.10/dist-packages (4.9.2)\n"
          ]
        }
      ]
    },
    {
      "cell_type": "code",
      "source": [
        "pip install requests"
      ],
      "metadata": {
        "colab": {
          "base_uri": "https://localhost:8080/"
        },
        "id": "hA_3XY3TSVd0",
        "outputId": "ecfe5000-2f45-4163-aa76-c2a4f07ddc1a"
      },
      "execution_count": null,
      "outputs": [
        {
          "output_type": "stream",
          "name": "stdout",
          "text": [
            "Requirement already satisfied: requests in /usr/local/lib/python3.10/dist-packages (2.27.1)\n",
            "Requirement already satisfied: urllib3<1.27,>=1.21.1 in /usr/local/lib/python3.10/dist-packages (from requests) (1.26.16)\n",
            "Requirement already satisfied: certifi>=2017.4.17 in /usr/local/lib/python3.10/dist-packages (from requests) (2023.5.7)\n",
            "Requirement already satisfied: charset-normalizer~=2.0.0 in /usr/local/lib/python3.10/dist-packages (from requests) (2.0.12)\n",
            "Requirement already satisfied: idna<4,>=2.5 in /usr/local/lib/python3.10/dist-packages (from requests) (3.4)\n"
          ]
        }
      ]
    },
    {
      "cell_type": "code",
      "source": [
        "pip install requests beautifulsoup4 lxml\n"
      ],
      "metadata": {
        "colab": {
          "base_uri": "https://localhost:8080/"
        },
        "id": "MDHQGv6eS8Yv",
        "outputId": "ef6ed0e4-c338-4d32-d442-1e394767bc7c"
      },
      "execution_count": null,
      "outputs": [
        {
          "output_type": "stream",
          "name": "stdout",
          "text": [
            "Requirement already satisfied: requests in /usr/local/lib/python3.10/dist-packages (2.27.1)\n",
            "Requirement already satisfied: beautifulsoup4 in /usr/local/lib/python3.10/dist-packages (4.11.2)\n",
            "Requirement already satisfied: lxml in /usr/local/lib/python3.10/dist-packages (4.9.2)\n",
            "Requirement already satisfied: urllib3<1.27,>=1.21.1 in /usr/local/lib/python3.10/dist-packages (from requests) (1.26.16)\n",
            "Requirement already satisfied: certifi>=2017.4.17 in /usr/local/lib/python3.10/dist-packages (from requests) (2023.5.7)\n",
            "Requirement already satisfied: charset-normalizer~=2.0.0 in /usr/local/lib/python3.10/dist-packages (from requests) (2.0.12)\n",
            "Requirement already satisfied: idna<4,>=2.5 in /usr/local/lib/python3.10/dist-packages (from requests) (3.4)\n",
            "Requirement already satisfied: soupsieve>1.2 in /usr/local/lib/python3.10/dist-packages (from beautifulsoup4) (2.4.1)\n"
          ]
        }
      ]
    },
    {
      "cell_type": "code",
      "source": [
        "import requests\n",
        "from bs4 import BeautifulSoup\n"
      ],
      "metadata": {
        "id": "FatvM36zTUhW"
      },
      "execution_count": null,
      "outputs": []
    },
    {
      "cell_type": "code",
      "source": [
        "url = \"https://www.amazon.in/s?k=bags&crid=2M096C61O4MLT&qid=1653308124&sprefix=ba%2Caps%2C283&ref=sr_pg_1\"\n",
        "response = requests.get(url)\n"
      ],
      "metadata": {
        "id": "HKrfxOlJTp2v"
      },
      "execution_count": null,
      "outputs": []
    },
    {
      "cell_type": "code",
      "source": [
        "soup = BeautifulSoup(response.content, 'lxml')\n"
      ],
      "metadata": {
        "id": "fcJSD8RsTvPp"
      },
      "execution_count": null,
      "outputs": []
    },
    {
      "cell_type": "code",
      "source": [
        "# Find all anchor tags with a specific class that contains the product URLs\n",
        "product_tags = soup.find_all('a', class_='a-link-normal a-text-normal')\n",
        "\n",
        "# Extract the product URLs\n",
        "product_urls = [tag['href'] for tag in product_tags]\n"
      ],
      "metadata": {
        "id": "hfld95NzT0kK"
      },
      "execution_count": null,
      "outputs": []
    },
    {
      "cell_type": "code",
      "source": [
        "base_url = \"https://www.amazon.in/s?k=bags&crid=2M096C61O4MLT&qid=1653308124&sprefix=ba%2Caps%2C283&ref=sr_pg_\"\n",
        "num_pages = 20\n",
        "\n",
        "for page in range(2, num_pages + 1):\n",
        "    url = base_url + str(page)\n",
        "    response = requests.get(url)\n",
        "    soup = BeautifulSoup(response.content, 'lxml')\n",
        "    # Extract product URLs and process them as mentioned earlier\n",
        "    product_cards = soup.find_all('div', {'data-component-type': 's-search-result'})\n",
        "\n",
        "    for card in product_cards:\n",
        "\n",
        "        product_name = card.find('span', class_='a-size-medium a-color-base a-text-normal').text\n",
        "        product_price = card.find('span', class_='a-offscreen').text\n",
        "\n",
        "        rating_element = card.find('span', class_='a-icon-alt')\n",
        "        rating = rating_element.text.split()[0] if rating_element else \"N/A\"\n",
        "\n",
        "        num_reviews_element = card.find('span', {'data-component-type': 's-product-review'})\n",
        "        num_reviews = num_reviews_element.text.split()[0] if num_reviews_element else \"N/A\"\n",
        "\n",
        "\n",
        "        print(\"Product Name:\", product_name)\n",
        "        print(\"Product Price:\", product_price)\n",
        "        print(\"Rating:\", rating)\n",
        "        print(\"Number of Reviews:\", num_reviews)\n",
        "        print(\"---\")\n",
        "\n"
      ],
      "metadata": {
        "colab": {
          "base_uri": "https://localhost:8080/"
        },
        "id": "d9PQjqhCT5cB",
        "outputId": "62acee05-35b4-4faa-badd-7145e5acee9f"
      },
      "execution_count": null,
      "outputs": [
        {
          "output_type": "stream",
          "name": "stdout",
          "text": [
            "Product Name: Skybags Brat Black 46 Cms Casual Backpack\n",
            "Product Price: ₹599\n",
            "Rating: 4.1\n",
            "Number of Reviews: N/A\n",
            "---\n",
            "Product Name: American Tourister 32 Ltrs Black Casual Backpack (AMT FIZZ SCH BAG 02 - BLACK)\n",
            "Product Price: ₹1,199\n",
            "Rating: 4.0\n",
            "Number of Reviews: N/A\n",
            "---\n",
            "Product Name: Wesley Milestone 2.0 Casual Waterproof Laptop Backpack/Office Bag/School Bag/College Bag/Business Bag/Travel Backpack (Dimensions:13x18 inches) (Compatible with 39.62cm(15.6inch laptop) 30 L (Blue & black)\n",
            "Product Price: ₹550\n",
            "Rating: 4.3\n",
            "Number of Reviews: N/A\n",
            "---\n",
            "Product Name: Half Moon 35L Water Resistant 15.6 inch Laptop Bag for Men/Backpack for Men, Navy Blue | Office Bag for Men/Office Bag for Women with Padded Laptop Compartment | Rain Cover & Reflective Strips\n",
            "Product Price: ₹649\n",
            "Rating: 3.9\n",
            "Number of Reviews: N/A\n",
            "---\n",
            "Product Name: Gear Aspire 30L Water Restant Office Laptop Bag/Backpack for Men/Women/(Black)\n",
            "Product Price: ₹1,085\n",
            "Rating: 4.4\n",
            "Number of Reviews: N/A\n",
            "---\n",
            "Product Name: FUR JADEN Anti Theft Number Lock Backpack Bag with 15.6 Inch Laptop Compartment, USB Charging Port & Organizer Pocket for Men Women Boys Girls\n",
            "Product Price: ₹679\n",
            "Rating: 4.0\n",
            "Number of Reviews: N/A\n",
            "---\n",
            "Product Name: Fur Jaden 55 LTR Rucksack Travel Backpack Bag for Trekking, Hiking with Shoe Compartment\n",
            "Product Price: ₹849\n",
            "Rating: 4.3\n",
            "Number of Reviews: N/A\n",
            "---\n",
            "Product Name: American Tourister VALEX BLACK LAPTOP BACKPACK 28 Ltrs,Volume, LAPTOP COMPARTMENT, BOTTLE POCKET, FRONT ORGANIZER\n",
            "Product Price: ₹1,299\n",
            "Rating: 4.3\n",
            "Number of Reviews: N/A\n",
            "---\n",
            "Product Name: Half Moon Large 37L Laptop Bag Backpack for menं Women Boys and Girls Luggage Travel Bags with 17.3 inches Laptop Compartment & Rain Cover\n",
            "Product Price: ₹849\n",
            "Rating: 3.9\n",
            "Number of Reviews: N/A\n",
            "---\n",
            "Product Name: ADISA 32L Large Laptop Backpack Office Bag College Travel Back Pack with rain Cover (Grey)\n",
            "Product Price: ₹599\n",
            "Rating: 3.8\n",
            "Number of Reviews: N/A\n",
            "---\n",
            "Product Name: SAFARI 15 Ltrs Sea Blue Casual/School/College Backpack (DAYPACKNEO15CBSEB)\n",
            "Product Price: ₹248\n",
            "Rating: 4.0\n",
            "Number of Reviews: N/A\n",
            "---\n",
            "Product Name: American Tourister VALEX BLUE LAPTOP BACKPACK 28 Ltrs,Volume, LAPTOP COMPARTMENT, BOTTLE POCKET, FRONT ORGANIZER\n",
            "Product Price: ₹1,399\n",
            "Rating: 4.3\n",
            "Number of Reviews: N/A\n",
            "---\n",
            "Product Name: ADISA 15.6 inch Laptop Backpack Office Bag College Travel Back Pack 32 Ltrs (z-Navy Blue)\n",
            "Product Price: ₹499\n",
            "Rating: 3.9\n",
            "Number of Reviews: N/A\n",
            "---\n",
            "Product Name: Red Lemon Swisslook Polyester Bange Series 45L 15.6-inch Laptop Bags Backpack for Men and Women Semi Waterproof USB with Anti Theft Pocket Travel Backpack\n",
            "Product Price: ₹2,844\n",
            "Rating: 4.3\n",
            "Number of Reviews: N/A\n",
            "---\n",
            "Product Name: TRUE HUMAN Emperor Anti-Theft backpack With USB charging Port Laptop Bag, Office bag, college bag and anti -theft back pocket (Black)\n",
            "Product Price: ₹689\n",
            "Rating: 3.8\n",
            "Number of Reviews: N/A\n",
            "---\n",
            "Product Name: Wesley Spartan Unisex Travel Hiking Laptop Bag fits Upto 17.3 inch with Raincover and Internal Organiser Backpack Rucksack College Bag\n",
            "Product Price: ₹749\n",
            "Rating: 4.1\n",
            "Number of Reviews: N/A\n",
            "---\n",
            "Product Name: Skybags Brat Black 46 Cms Casual Backpack\n",
            "Product Price: ₹599\n",
            "Rating: 4.1\n",
            "Number of Reviews: N/A\n",
            "---\n",
            "Product Name: American Tourister 32 Ltrs Black Casual Backpack (AMT FIZZ SCH BAG 02 - BLACK)\n",
            "Product Price: ₹1,199\n",
            "Rating: 4.0\n",
            "Number of Reviews: N/A\n",
            "---\n",
            "Product Name: Wesley Milestone 2.0 Casual Waterproof Laptop Backpack/Office Bag/School Bag/College Bag/Business Bag/Travel Backpack (Dimensions:13x18 inches) (Compatible with 39.62cm(15.6inch laptop) 30 L (Blue & black)\n",
            "Product Price: ₹550\n",
            "Rating: 4.3\n",
            "Number of Reviews: N/A\n",
            "---\n",
            "Product Name: Half Moon 35L Water Resistant 15.6 inch Laptop Bag for Men/Backpack for Men, Navy Blue | Office Bag for Men/Office Bag for Women with Padded Laptop Compartment | Rain Cover & Reflective Strips\n",
            "Product Price: ₹649\n",
            "Rating: 3.9\n",
            "Number of Reviews: N/A\n",
            "---\n",
            "Product Name: Gear Aspire 30L Water Restant Office Laptop Bag/Backpack for Men/Women/(Black)\n",
            "Product Price: ₹1,085\n",
            "Rating: 4.4\n",
            "Number of Reviews: N/A\n",
            "---\n",
            "Product Name: FUR JADEN Anti Theft Number Lock Backpack Bag with 15.6 Inch Laptop Compartment, USB Charging Port & Organizer Pocket for Men Women Boys Girls\n",
            "Product Price: ₹679\n",
            "Rating: 4.0\n",
            "Number of Reviews: N/A\n",
            "---\n",
            "Product Name: Fur Jaden 55 LTR Rucksack Travel Backpack Bag for Trekking, Hiking with Shoe Compartment\n",
            "Product Price: ₹849\n",
            "Rating: 4.3\n",
            "Number of Reviews: N/A\n",
            "---\n",
            "Product Name: American Tourister VALEX BLACK LAPTOP BACKPACK 28 Ltrs,Volume, LAPTOP COMPARTMENT, BOTTLE POCKET, FRONT ORGANIZER\n",
            "Product Price: ₹1,299\n",
            "Rating: 4.3\n",
            "Number of Reviews: N/A\n",
            "---\n",
            "Product Name: Half Moon Large 37L Laptop Bag Backpack for menं Women Boys and Girls Luggage Travel Bags with 17.3 inches Laptop Compartment & Rain Cover\n",
            "Product Price: ₹849\n",
            "Rating: 3.9\n",
            "Number of Reviews: N/A\n",
            "---\n",
            "Product Name: ADISA 32L Large Laptop Backpack Office Bag College Travel Back Pack with rain Cover (Grey)\n",
            "Product Price: ₹599\n",
            "Rating: 3.8\n",
            "Number of Reviews: N/A\n",
            "---\n",
            "Product Name: SAFARI 15 Ltrs Sea Blue Casual/School/College Backpack (DAYPACKNEO15CBSEB)\n",
            "Product Price: ₹248\n",
            "Rating: 4.0\n",
            "Number of Reviews: N/A\n",
            "---\n",
            "Product Name: American Tourister VALEX BLUE LAPTOP BACKPACK 28 Ltrs,Volume, LAPTOP COMPARTMENT, BOTTLE POCKET, FRONT ORGANIZER\n",
            "Product Price: ₹1,399\n",
            "Rating: 4.3\n",
            "Number of Reviews: N/A\n",
            "---\n",
            "Product Name: ADISA 15.6 inch Laptop Backpack Office Bag College Travel Back Pack 32 Ltrs (z-Navy Blue)\n",
            "Product Price: ₹499\n",
            "Rating: 3.9\n",
            "Number of Reviews: N/A\n",
            "---\n",
            "Product Name: Red Lemon Swisslook Polyester Bange Series 45L 15.6-inch Laptop Bags Backpack for Men and Women Semi Waterproof USB with Anti Theft Pocket Travel Backpack\n",
            "Product Price: ₹2,844\n",
            "Rating: 4.3\n",
            "Number of Reviews: N/A\n",
            "---\n",
            "Product Name: TRUE HUMAN Emperor Anti-Theft backpack With USB charging Port Laptop Bag, Office bag, college bag and anti -theft back pocket (Black)\n",
            "Product Price: ₹689\n",
            "Rating: 3.8\n",
            "Number of Reviews: N/A\n",
            "---\n",
            "Product Name: Wesley Spartan Unisex Travel Hiking Laptop Bag fits Upto 17.3 inch with Raincover and Internal Organiser Backpack Rucksack College Bag\n",
            "Product Price: ₹749\n",
            "Rating: 4.1\n",
            "Number of Reviews: N/A\n",
            "---\n",
            "Product Name: Skybags Brat Black 46 Cms Casual Backpack\n",
            "Product Price: ₹599\n",
            "Rating: 4.1\n",
            "Number of Reviews: N/A\n",
            "---\n",
            "Product Name: American Tourister 32 Ltrs Black Casual Backpack (AMT FIZZ SCH BAG 02 - BLACK)\n",
            "Product Price: ₹1,199\n",
            "Rating: 4.0\n",
            "Number of Reviews: N/A\n",
            "---\n",
            "Product Name: Wesley Milestone 2.0 Casual Waterproof Laptop Backpack/Office Bag/School Bag/College Bag/Business Bag/Travel Backpack (Dimensions:13x18 inches) (Compatible with 39.62cm(15.6inch laptop) 30 L (Blue & black)\n",
            "Product Price: ₹550\n",
            "Rating: 4.3\n",
            "Number of Reviews: N/A\n",
            "---\n",
            "Product Name: Half Moon 35L Water Resistant 15.6 inch Laptop Bag for Men/Backpack for Men, Navy Blue | Office Bag for Men/Office Bag for Women with Padded Laptop Compartment | Rain Cover & Reflective Strips\n",
            "Product Price: ₹649\n",
            "Rating: 3.9\n",
            "Number of Reviews: N/A\n",
            "---\n",
            "Product Name: Gear Aspire 30L Water Restant Office Laptop Bag/Backpack for Men/Women/(Black)\n",
            "Product Price: ₹1,085\n",
            "Rating: 4.4\n",
            "Number of Reviews: N/A\n",
            "---\n",
            "Product Name: FUR JADEN Anti Theft Number Lock Backpack Bag with 15.6 Inch Laptop Compartment, USB Charging Port & Organizer Pocket for Men Women Boys Girls\n",
            "Product Price: ₹679\n",
            "Rating: 4.0\n",
            "Number of Reviews: N/A\n",
            "---\n",
            "Product Name: Fur Jaden 55 LTR Rucksack Travel Backpack Bag for Trekking, Hiking with Shoe Compartment\n",
            "Product Price: ₹849\n",
            "Rating: 4.3\n",
            "Number of Reviews: N/A\n",
            "---\n",
            "Product Name: American Tourister VALEX BLACK LAPTOP BACKPACK 28 Ltrs,Volume, LAPTOP COMPARTMENT, BOTTLE POCKET, FRONT ORGANIZER\n",
            "Product Price: ₹1,299\n",
            "Rating: 4.3\n",
            "Number of Reviews: N/A\n",
            "---\n",
            "Product Name: Half Moon Large 37L Laptop Bag Backpack for menं Women Boys and Girls Luggage Travel Bags with 17.3 inches Laptop Compartment & Rain Cover\n",
            "Product Price: ₹849\n",
            "Rating: 3.9\n",
            "Number of Reviews: N/A\n",
            "---\n",
            "Product Name: ADISA 32L Large Laptop Backpack Office Bag College Travel Back Pack with rain Cover (Grey)\n",
            "Product Price: ₹599\n",
            "Rating: 3.8\n",
            "Number of Reviews: N/A\n",
            "---\n",
            "Product Name: SAFARI 15 Ltrs Sea Blue Casual/School/College Backpack (DAYPACKNEO15CBSEB)\n",
            "Product Price: ₹248\n",
            "Rating: 4.0\n",
            "Number of Reviews: N/A\n",
            "---\n",
            "Product Name: American Tourister VALEX BLUE LAPTOP BACKPACK 28 Ltrs,Volume, LAPTOP COMPARTMENT, BOTTLE POCKET, FRONT ORGANIZER\n",
            "Product Price: ₹1,399\n",
            "Rating: 4.3\n",
            "Number of Reviews: N/A\n",
            "---\n",
            "Product Name: ADISA 15.6 inch Laptop Backpack Office Bag College Travel Back Pack 32 Ltrs (z-Navy Blue)\n",
            "Product Price: ₹499\n",
            "Rating: 3.9\n",
            "Number of Reviews: N/A\n",
            "---\n",
            "Product Name: Red Lemon Swisslook Polyester Bange Series 45L 15.6-inch Laptop Bags Backpack for Men and Women Semi Waterproof USB with Anti Theft Pocket Travel Backpack\n",
            "Product Price: ₹2,844\n",
            "Rating: 4.3\n",
            "Number of Reviews: N/A\n",
            "---\n",
            "Product Name: TRUE HUMAN Emperor Anti-Theft backpack With USB charging Port Laptop Bag, Office bag, college bag and anti -theft back pocket (Black)\n",
            "Product Price: ₹689\n",
            "Rating: 3.8\n",
            "Number of Reviews: N/A\n",
            "---\n",
            "Product Name: Wesley Spartan Unisex Travel Hiking Laptop Bag fits Upto 17.3 inch with Raincover and Internal Organiser Backpack Rucksack College Bag\n",
            "Product Price: ₹749\n",
            "Rating: 4.1\n",
            "Number of Reviews: N/A\n",
            "---\n"
          ]
        }
      ]
    },
    {
      "cell_type": "markdown",
      "source": [
        "Part - B"
      ],
      "metadata": {
        "id": "zJIDLoM-Vw5Q"
      }
    },
    {
      "cell_type": "code",
      "source": [
        "url = \"https://www.amazon.in/s?k=bags&crid=2M096C61O4MLT&qid=1653308124&sprefix=ba%2Caps%2C283&ref=sr_pg_1\"\n",
        "num_products = 200\n",
        "csv_file = open(\"product_data.csv\", \"w\", newline=\"\", encoding=\"utf-8\")\n",
        "csv_writer = csv.writer(csv_file)\n",
        "csv_writer.writerow([\"Description\", \"ASIN\", \"Product Description\", \"Manufacturer\"])\n",
        "\n",
        "for page_num in range(1, (num_products // 48) + 2):\n",
        "\n",
        "    page_url = f\"{url}&page={page_num}\"\n",
        "    response = requests.get(page_url)\n",
        "    soup = BeautifulSoup(response.content, \"html.parser\")\n",
        "\n",
        "\n",
        "    products = soup.find_all(\"div\", {\"data-component-type\": \"s-search-result\"})\n",
        "\n",
        "    for product in products:\n",
        "        try:\n",
        "            description = product.find(\"span\", class_=\"a-size-base-plus\").text.strip()\n",
        "        except AttributeError:\n",
        "            description = \"\"\n",
        "\n",
        "        asin = product.get(\"data-asin\", \"\")\n",
        "\n",
        "        try:\n",
        "            product_desc = product.find(\"span\", class_=\"a-size-base-plus a-color-base a-text-normal\").text.strip()\n",
        "        except AttributeError:\n",
        "            product_desc = \"\"\n",
        "\n",
        "        try:\n",
        "            manufacturer = product.find(\"span\", class_=\"a-size-base\").text.strip()\n",
        "        except AttributeError:\n",
        "            manufacturer = \"\"\n",
        "\n",
        "        csv_writer.writerow([description, asin, product_desc, manufacturer])\n",
        "\n",
        "csv_file.close()\n"
      ],
      "metadata": {
        "id": "1G6KjNk0W61Q"
      },
      "execution_count": 4,
      "outputs": []
    }
  ]
}