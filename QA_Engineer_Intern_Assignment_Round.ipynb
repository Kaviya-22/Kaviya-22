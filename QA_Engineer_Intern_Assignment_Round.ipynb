{
  "nbformat": 4,
  "nbformat_minor": 0,
  "metadata": {
    "colab": {
      "provenance": [],
      "authorship_tag": "ABX9TyMX+HHz8Vc+561tlW50QiAQ",
      "include_colab_link": true
    },
    "kernelspec": {
      "name": "python3",
      "display_name": "Python 3"
    },
    "language_info": {
      "name": "python"
    }
  },
  "cells": [
    {
      "cell_type": "markdown",
      "metadata": {
        "id": "view-in-github",
        "colab_type": "text"
      },
      "source": [
        "<a href=\"https://colab.research.google.com/github/Kaviya-22/Kaviya-22/blob/main/QA_Engineer_Intern_Assignment_Round.ipynb\" target=\"_parent\"><img src=\"https://colab.research.google.com/assets/colab-badge.svg\" alt=\"Open In Colab\"/></a>"
      ]
    },
    {
      "cell_type": "code",
      "execution_count": 4,
      "metadata": {
        "colab": {
          "base_uri": "https://localhost:8080/"
        },
        "id": "N3GpjP0hwaDX",
        "outputId": "364bffd8-8b1c-4963-8986-908f0e4fd26b"
      },
      "outputs": [
        {
          "output_type": "stream",
          "name": "stdout",
          "text": [
            "\n",
            "1. Get weather\n",
            "2. Get Wind Speed\n",
            "3. Get Pressure\n",
            "0. Exit\n",
            "Select an option:\n",
            "Enter your choice: 1\n",
            "Enter the date (YYYY-MM-DD): 2019-03-27\n",
            "The temperature on 2019-03-27 is 278.76°K.\n",
            "\n",
            "1. Get weather\n",
            "2. Get Wind Speed\n",
            "3. Get Pressure\n",
            "0. Exit\n",
            "Select an option:\n",
            "Enter your choice: 2\n",
            "Enter the date (YYYY-MM-DD): 2019-03-28\n",
            "The wind speed on 2019-03-28 is 1.13 m/s.\n",
            "\n",
            "1. Get weather\n",
            "2. Get Wind Speed\n",
            "3. Get Pressure\n",
            "0. Exit\n",
            "Select an option:\n",
            "Enter your choice: 3\n",
            "Enter the date (YYYY-MM-DD): 2019-03-27\n",
            "The pressure on 2019-03-27 is 1031.934 hPa.\n",
            "\n",
            "1. Get weather\n",
            "2. Get Wind Speed\n",
            "3. Get Pressure\n",
            "0. Exit\n",
            "Select an option:\n",
            "Enter your choice: 0\n",
            "Terminating the program.\n"
          ]
        }
      ],
      "source": [
        "import requests\n",
        "\n",
        "API_KEY = \"YOUR_OPENWEATHERMAP_API_KEY\"\n",
        "BASE_URL = \"https://samples.openweathermap.org/data/2.5/forecast/hourly?q=London,us&appid=\" + API_KEY\n",
        "\n",
        "\n",
        "def get_weather(date):\n",
        "    response = requests.get(BASE_URL)\n",
        "    if response.status_code == 200:\n",
        "        data = response.json()\n",
        "        for forecast in data[\"list\"]:\n",
        "            if forecast[\"dt_txt\"].startswith(date):\n",
        "                return forecast[\"main\"][\"temp\"]\n",
        "        return None\n",
        "    else:\n",
        "        print(\"Failed to fetch data from the API.\")\n",
        "        return None\n",
        "\n",
        "\n",
        "def get_wind_speed(date):\n",
        "    response = requests.get(BASE_URL)\n",
        "    if response.status_code == 200:\n",
        "        data = response.json()\n",
        "        for forecast in data[\"list\"]:\n",
        "            if forecast[\"dt_txt\"].startswith(date):\n",
        "                return forecast[\"wind\"][\"speed\"]\n",
        "        return None\n",
        "    else:\n",
        "        print(\"Failed to fetch data from the API.\")\n",
        "        return None\n",
        "\n",
        "\n",
        "def get_pressure(date):\n",
        "    response = requests.get(BASE_URL)\n",
        "    if response.status_code == 200:\n",
        "        data = response.json()\n",
        "        for forecast in data[\"list\"]:\n",
        "            if forecast[\"dt_txt\"].startswith(date):\n",
        "                return forecast[\"main\"][\"pressure\"]\n",
        "        return None\n",
        "    else:\n",
        "        print(\"Failed to fetch data from the API.\")\n",
        "        return None\n",
        "\n",
        "\n",
        "def main():\n",
        "    while True:\n",
        "        print(\"\\n1. Get weather\\n2. Get Wind Speed\\n3. Get Pressure\\n0. Exit\")\n",
        "        print(\"Select an option:\")\n",
        "        choice = input(\"Enter your choice: \")\n",
        "\n",
        "        if choice == \"1\":\n",
        "            date = input(\"Enter the date (YYYY-MM-DD): \")\n",
        "            temperature = get_weather(date)\n",
        "            if temperature is not None:\n",
        "                print(f\"The temperature on {date} is {temperature}°K.\")\n",
        "        elif choice == \"2\":\n",
        "            date = input(\"Enter the date (YYYY-MM-DD): \")\n",
        "            wind_speed = get_wind_speed(date)\n",
        "            if wind_speed is not None:\n",
        "                print(f\"The wind speed on {date} is {wind_speed} m/s.\")\n",
        "        elif choice == \"3\":\n",
        "            date = input(\"Enter the date (YYYY-MM-DD): \")\n",
        "            pressure = get_pressure(date)\n",
        "            if pressure is not None:\n",
        "                print(f\"The pressure on {date} is {pressure} hPa.\")\n",
        "        elif choice == \"0\":\n",
        "            print(\"Terminating the program.\")\n",
        "            break\n",
        "        else:\n",
        "            print(\"Invalid choice. Please try again.\")\n",
        "\n",
        "\n",
        "if __name__ == \"__main__\":\n",
        "    main()\n"
      ]
    }
  ]
}