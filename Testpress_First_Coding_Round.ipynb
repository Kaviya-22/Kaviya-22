{
  "nbformat": 4,
  "nbformat_minor": 0,
  "metadata": {
    "colab": {
      "provenance": [],
      "authorship_tag": "ABX9TyMsLVP5Pbtuh5bHfCjwb/Jo",
      "include_colab_link": true
    },
    "kernelspec": {
      "name": "python3",
      "display_name": "Python 3"
    },
    "language_info": {
      "name": "python"
    }
  },
  "cells": [
    {
      "cell_type": "markdown",
      "metadata": {
        "id": "view-in-github",
        "colab_type": "text"
      },
      "source": [
        "<a href=\"https://colab.research.google.com/github/Kaviya-22/Kaviya-22/blob/main/Testpress_First_Coding_Round.ipynb\" target=\"_parent\"><img src=\"https://colab.research.google.com/assets/colab-badge.svg\" alt=\"Open In Colab\"/></a>"
      ]
    },
    {
      "cell_type": "markdown",
      "source": [
        "Reversing String"
      ],
      "metadata": {
        "id": "MdV2anRAo-4O"
      }
    },
    {
      "cell_type": "code",
      "execution_count": 1,
      "metadata": {
        "colab": {
          "base_uri": "https://localhost:8080/"
        },
        "id": "Ous6ycUNo5Ev",
        "outputId": "a4f05a57-7f4c-40a5-e071-dbabc96d9f6f"
      },
      "outputs": [
        {
          "output_type": "stream",
          "name": "stdout",
          "text": [
            "codecode\n",
            "edocedoc\n"
          ]
        }
      ],
      "source": [
        "str1 = input()\n",
        "txt = str1[::-1]\n",
        "print(txt)"
      ]
    },
    {
      "cell_type": "markdown",
      "source": [
        "Prime or Not"
      ],
      "metadata": {
        "id": "6384HUNXpIFu"
      }
    },
    {
      "cell_type": "code",
      "source": [
        "n = int(input())\n",
        "if n>1:\n",
        "    for i in range(2,int(n/2)+1):\n",
        "        if (n%i==0):\n",
        "            print(\"No\")\n",
        "            break\n",
        "        else:\n",
        "            print(\"Yes\")\n",
        "else:\n",
        "    print(\"No\")"
      ],
      "metadata": {
        "colab": {
          "base_uri": "https://localhost:8080/"
        },
        "id": "Pi4qc5DKpMBT",
        "outputId": "d0a7cf0b-776a-4fc1-aac8-0ce0d4e15bba"
      },
      "execution_count": 2,
      "outputs": [
        {
          "output_type": "stream",
          "name": "stdout",
          "text": [
            "4\n",
            "No\n"
          ]
        }
      ]
    },
    {
      "cell_type": "markdown",
      "source": [
        "Largest array arrangment"
      ],
      "metadata": {
        "id": "G4Bf72uKpa8V"
      }
    },
    {
      "cell_type": "code",
      "source": [
        "from itertools import permutations\n",
        "def larg(l):\n",
        "    lst = []\n",
        "    for i in permutations(l, len(l)):\n",
        "      lst.append(\"\".join(map(str,i)))\n",
        "    return max(lst)\n",
        "lst1=larg([54, 546, 548, 60])\n",
        "print(lst1)"
      ],
      "metadata": {
        "colab": {
          "base_uri": "https://localhost:8080/"
        },
        "id": "-hfWcN_3pdF5",
        "outputId": "ad83ac17-30f4-4dff-fa9c-aeb191cb7a83"
      },
      "execution_count": 3,
      "outputs": [
        {
          "output_type": "stream",
          "name": "stdout",
          "text": [
            "6054854654\n"
          ]
        }
      ]
    },
    {
      "cell_type": "markdown",
      "source": [
        "Reversing number"
      ],
      "metadata": {
        "id": "FhsZA20jpj1l"
      }
    },
    {
      "cell_type": "code",
      "source": [
        "def rev_num(num):\n",
        "  num1 = str(num)\n",
        "  rev = num1[::-1]\n",
        "  num2= int(rev)\n",
        "  return num2\n",
        "num=int(input())\n",
        "print(rev_num(num))"
      ],
      "metadata": {
        "colab": {
          "base_uri": "https://localhost:8080/"
        },
        "id": "076Be-C3poOQ",
        "outputId": "a1a78d91-04b6-47ec-ec17-4fc84b8e5f5d"
      },
      "execution_count": 4,
      "outputs": [
        {
          "output_type": "stream",
          "name": "stdout",
          "text": [
            "100\n",
            "1\n"
          ]
        }
      ]
    },
    {
      "cell_type": "markdown",
      "source": [
        "Maximum and Minimum element"
      ],
      "metadata": {
        "id": "59OR8bLjpxN_"
      }
    },
    {
      "cell_type": "code",
      "source": [
        "lst = [54, 546, 548, 60]\n",
        "lst1 = sorted(lst)\n",
        "min = lst1[0]\n",
        "max = lst1[-1]\n",
        "print(max,min)"
      ],
      "metadata": {
        "colab": {
          "base_uri": "https://localhost:8080/"
        },
        "id": "8zRAFVSypydi",
        "outputId": "3fed8be8-3348-43e4-b6eb-29e56aa359e6"
      },
      "execution_count": 5,
      "outputs": [
        {
          "output_type": "stream",
          "name": "stdout",
          "text": [
            "548 54\n"
          ]
        }
      ]
    }
  ]
}